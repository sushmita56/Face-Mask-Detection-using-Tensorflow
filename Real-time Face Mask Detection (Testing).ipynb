{
 "cells": [
  {
   "cell_type": "code",
   "execution_count": 1,
   "id": "43220694",
   "metadata": {},
   "outputs": [],
   "source": [
    "from tensorflow.keras.applications.mobilenet_v2 import preprocess_input\n",
    "from tensorflow.keras.preprocessing.image import img_to_array\n",
    "from tensorflow.keras.models import load_model\n",
    "from imutils.video import VideoStream\n",
    "import imutils\n",
    "import numpy as np\n",
    "import cv2\n",
    "import os"
   ]
  },
  {
   "cell_type": "code",
   "execution_count": 2,
   "id": "0966ebbf",
   "metadata": {},
   "outputs": [],
   "source": [
    "def detect_mask(frame, faceNet, model):\n",
    "    # grab the dimensions of the frame and then construct a blob\n",
    "    (h,w) = frame.shape[:2]\n",
    "    blob = cv2.dnn.blobFromImage(frame, 1.0, (300,300), (104.0, 177.0, 123.0))\n",
    "    \n",
    "    faceNet.setInput(blob)\n",
    "    detections = faceNet.forward()\n",
    "    \n",
    "    faces = []\n",
    "    locs = []\n",
    "    preds = []\n",
    "    \n",
    "    for i in range(0, detections.shape[2]):\n",
    "        confidence = detections[0, 0, i, 2]\n",
    "\n",
    "    # Extract confidence and compare it to the confidence threshold(50%) so that we can filter out detections that are weak.\n",
    "    # If the algorithm is more than 50% confident that the detection is a face, Iterate over all of the faces detected and extract their start and end points.\n",
    "\n",
    "        if confidence > 0.5:\n",
    "            box = detections[0, 0, i, 3:7]*np.array([w,h,w,h])\n",
    "            (startX, startY, endX, endY) = box.astype('int')\n",
    "\n",
    "            # ensure the bounding boxes fall within the dimensions of the frame\n",
    "            startX, startY = (max(0, startX), max(0,startY))\n",
    "            endX, endY = (min(w-1, endX), min(h-1, endY))\n",
    "\n",
    "            # extract the face ROI, convert it from BGR to RGB channel, resize it to 224,224 and preprocess it\n",
    "            face = frame[startY:endY, startX:endX]\n",
    "            face = cv2.cvtColor(face, cv2.COLOR_BGR2RGB)\n",
    "            face = cv2.resize(face, (224,224))\n",
    "            face = img_to_array(face)\n",
    "            face = preprocess_input(face)\n",
    "\n",
    "            faces.append(face)\n",
    "            locs.append((startX, startY, endX, endY))\n",
    "        \n",
    "\n",
    "        if len(face) > 0:\n",
    "            faces = np.array(faces, dtype = 'float32')\n",
    "            preds = model.predict(faces, batch_size = 10)\n",
    "\n",
    "        return locs, preds"
   ]
  },
  {
   "cell_type": "code",
   "execution_count": 3,
   "id": "7c7b6178",
   "metadata": {},
   "outputs": [],
   "source": [
    "prototxtPath = os.path.sep.join([r'D:\\Deep Learning\\FaceMaskDetector\\face detector', 'deploy.prototxt'])\n",
    "weightsPath = os.path.sep.join([r'D:\\Deep Learning\\FaceMaskDetector\\face detector', 'res10_300x300_ssd_iter_140000.caffemodel'])"
   ]
  },
  {
   "cell_type": "code",
   "execution_count": 4,
   "id": "c6d90a29",
   "metadata": {},
   "outputs": [],
   "source": [
    "faceNet = cv2.dnn.readNet(prototxtPath, weightsPath)"
   ]
  },
  {
   "cell_type": "code",
   "execution_count": 10,
   "id": "e2637368",
   "metadata": {},
   "outputs": [],
   "source": [
    "model = load_model('D:\\Deep Learning\\FaceMaskDetector\\maskdetector.model')"
   ]
  },
  {
   "cell_type": "code",
   "execution_count": 11,
   "id": "8a2d26eb",
   "metadata": {},
   "outputs": [],
   "source": [
    "vs = VideoStream(src=0).start()\n",
    "\n",
    "while True:\n",
    "    frame = vs.read()\n",
    "    frame = imutils.resize(frame, width=400)\n",
    "    \n",
    "    (locs, preds) = detect_mask(frame, faceNet, model)\n",
    "    \n",
    "    for (i,j) in zip(locs, preds):\n",
    "        (startX, startY, endX, endY) = i\n",
    "        (withMask, withoutMask) = j\n",
    "        \n",
    "        label = \"Mask\" if withMask > withoutMask else \"No Mask\"\n",
    "        color = (0,255,0) if label=='Mask' else (0,0,255)\n",
    "        \n",
    "        label=\"{}: {:.2f}%\".format(label,max(withMask,withoutMask)*100)\n",
    "        \n",
    "        cv2.putText(frame, label, (startX, startY-10), cv2.FONT_HERSHEY_SIMPLEX, 0.45, color, 2)\n",
    "        cv2.rectangle(frame, (startX, startY), (endX, endY), color, 2)\n",
    "        \n",
    "    cv2.imshow(\"Frame\", frame)\n",
    "    key = cv2.waitKey(1) & 0xFF\n",
    "    if key == ord('q'):\n",
    "        break\n",
    "    \n",
    "    \n",
    "cv2.destroyAllWindows() \n",
    "vs.stop()       "
   ]
  },
  {
   "cell_type": "code",
   "execution_count": null,
   "id": "e2761b53",
   "metadata": {},
   "outputs": [],
   "source": []
  },
  {
   "cell_type": "code",
   "execution_count": null,
   "id": "4d102853",
   "metadata": {},
   "outputs": [],
   "source": []
  }
 ],
 "metadata": {
  "kernelspec": {
   "display_name": "Python 3 (ipykernel)",
   "language": "python",
   "name": "python3"
  },
  "language_info": {
   "codemirror_mode": {
    "name": "ipython",
    "version": 3
   },
   "file_extension": ".py",
   "mimetype": "text/x-python",
   "name": "python",
   "nbconvert_exporter": "python",
   "pygments_lexer": "ipython3",
   "version": "3.9.7"
  }
 },
 "nbformat": 4,
 "nbformat_minor": 5
}
